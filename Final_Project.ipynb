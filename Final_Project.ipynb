{
 "cells": [
  {
   "cell_type": "code",
   "execution_count": null,
   "id": "282e4c08",
   "metadata": {},
   "outputs": [],
   "source": [
    "import pandas as pd"
   ]
  },
  {
   "cell_type": "code",
   "execution_count": null,
   "id": "5b403d31",
   "metadata": {},
   "outputs": [],
   "source": [
    "import matplotlib.pyplot as plt"
   ]
  },
  {
   "cell_type": "code",
   "execution_count": null,
   "id": "da75eba2",
   "metadata": {},
   "outputs": [],
   "source": [
    "import seaborn as sns"
   ]
  },
  {
   "cell_type": "code",
   "execution_count": null,
   "id": "12c184c0",
   "metadata": {},
   "outputs": [],
   "source": [
    "df1 = pd.read_csv('https://umbc.box.com/shared/static/au8h309qptksq5wlem6g5onn5v13fsrc.csv', encoding='ISO-8859-1')"
   ]
  },
  {
   "cell_type": "code",
   "execution_count": null,
   "id": "66974624",
   "metadata": {},
   "outputs": [],
   "source": [
    "df2 = pd.read_csv('https://umbc.box.com/shared/static/tdkmuj86qm2uxhvjlfkav2i3pnx9fkoa.csv', encoding='ISO-8859-1')"
   ]
  },
  {
   "cell_type": "code",
   "execution_count": null,
   "id": "db533acc",
   "metadata": {},
   "outputs": [],
   "source": [
    "df3 = pd.read_csv('https://umbc.box.com/shared/static/7emabgf9ck2afprmrl459jnk30ewmabj.csv', encoding='ISO-8859-1')"
   ]
  },
  {
   "cell_type": "code",
   "execution_count": null,
   "id": "b812317b",
   "metadata": {},
   "outputs": [],
   "source": [
    "df4 = pd.read_csv('https://umbc.box.com/shared/static/91lmieun5u1e8p87wmlnuglyzl3xm91h.csv', encoding='ISO-8859-1')"
   ]
  },
  {
   "cell_type": "code",
   "execution_count": null,
   "id": "cb1a8013",
   "metadata": {},
   "outputs": [],
   "source": [
    "combined_df = pd.concat([df1, df2, df3, df4], ignore_index=True)"
   ]
  },
  {
   "cell_type": "code",
   "execution_count": null,
   "id": "1971dd1d",
   "metadata": {},
   "outputs": [],
   "source": [
    "def clean_contract_data(df):\n",
    "    df['Award$'] = pd.to_numeric(df['Award$'].str.replace('[^\\d.]', ''), errors='coerce')\n",
    "    df['PostedDate'] = pd.to_datetime(df['PostedDate'], errors='coerce', utc=True)\n",
    "    df['Awardee'] = df['Awardee'].astype(str)\n",
    "    return df"
   ]
  },
  {
   "cell_type": "code",
   "execution_count": null,
   "id": "2eea8257",
   "metadata": {},
   "outputs": [],
   "source": [
    "combined_df = clean_contract_data(combined_df)"
   ]
  },
  {
   "cell_type": "code",
   "execution_count": null,
   "id": "ad647074",
   "metadata": {},
   "outputs": [],
   "source": [
    "combined_df.columns"
   ]
  },
  {
   "cell_type": "code",
   "execution_count": null,
   "id": "a8d802bf",
   "metadata": {},
   "outputs": [],
   "source": [
    "com_df = combined_df[combined_df['Department/Ind.Agency'].str.contains('COMMERCE', na=False)]"
   ]
  },
  {
   "cell_type": "code",
   "execution_count": null,
   "id": "30380db1",
   "metadata": {},
   "outputs": [],
   "source": [
    "census = com_df[com_df['Sub-Tier'].str.contains('US CENSUS BUREAU', na=False)]"
   ]
  },
  {
   "cell_type": "code",
   "execution_count": null,
   "id": "aa75d235",
   "metadata": {},
   "outputs": [],
   "source": [
    "compare = com_df['Sub-Tier'].value_counts().reset_index()"
   ]
  },
  {
   "cell_type": "code",
   "execution_count": null,
   "id": "1701a7d1",
   "metadata": {},
   "outputs": [],
   "source": [
    "compare.rename(columns={'index': 'Sub-Tier', 'Sub-Tier': 'count'}, inplace=True)"
   ]
  },
  {
   "cell_type": "code",
   "execution_count": null,
   "id": "7a48af63",
   "metadata": {},
   "outputs": [],
   "source": [
    "plt.figure(figsize=(12, 8))"
   ]
  },
  {
   "cell_type": "code",
   "execution_count": null,
   "id": "a8044434",
   "metadata": {},
   "outputs": [],
   "source": [
    "sns.barplot(data=compare, x='count', y='Sub-Tier', palette='Pastel2')"
   ]
  },
  {
   "cell_type": "code",
   "execution_count": null,
   "id": "5dca87d8",
   "metadata": {},
   "outputs": [],
   "source": [
    "plt.title('Counts of Sub-Tier Entities in Department of Commerce')"
   ]
  },
  {
   "cell_type": "code",
   "execution_count": null,
   "id": "8b2d4646",
   "metadata": {},
   "outputs": [],
   "source": [
    "plt.xlabel('Count')"
   ]
  },
  {
   "cell_type": "code",
   "execution_count": null,
   "id": "569aa800",
   "metadata": {},
   "outputs": [],
   "source": [
    "plt.ylabel('Sub-Tier Entities')"
   ]
  },
  {
   "cell_type": "code",
   "execution_count": null,
   "id": "ad4057f4",
   "metadata": {},
   "outputs": [],
   "source": [
    "plt.grid(True)"
   ]
  },
  {
   "cell_type": "code",
   "execution_count": null,
   "id": "8a44fde4",
   "metadata": {},
   "outputs": [],
   "source": [
    "plt.show()"
   ]
  }
 ],
 "metadata": {},
 "nbformat": 4,
 "nbformat_minor": 5
}
