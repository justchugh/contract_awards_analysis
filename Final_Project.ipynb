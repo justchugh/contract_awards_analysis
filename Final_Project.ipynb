{
 "cells": [
  {
   "cell_type": "code",
   "execution_count": null,
   "id": "8cec1d9a",
   "metadata": {},
   "outputs": [],
   "source": [
    "import pandas as pd"
   ]
  },
  {
   "cell_type": "code",
   "execution_count": null,
   "id": "9a4f2f38",
   "metadata": {},
   "outputs": [],
   "source": [
    "import matplotlib.pyplot as plt"
   ]
  },
  {
   "cell_type": "code",
   "execution_count": null,
   "id": "b0510c4e",
   "metadata": {},
   "outputs": [],
   "source": [
    "import seaborn as sns"
   ]
  },
  {
   "cell_type": "code",
   "execution_count": null,
   "id": "d986fe72",
   "metadata": {},
   "outputs": [],
   "source": [
    "df1 = pd.read_csv('https://umbc.box.com/shared/static/au8h309qptksq5wlem6g5onn5v13fsrc.csv', encoding='ISO-8859-1')"
   ]
  },
  {
   "cell_type": "code",
   "execution_count": null,
   "id": "dfd2d65c",
   "metadata": {},
   "outputs": [],
   "source": [
    "df2 = pd.read_csv('https://umbc.box.com/shared/static/tdkmuj86qm2uxhvjlfkav2i3pnx9fkoa.csv', encoding='ISO-8859-1')"
   ]
  },
  {
   "cell_type": "code",
   "execution_count": null,
   "id": "1abd29ca",
   "metadata": {},
   "outputs": [],
   "source": [
    "df3 = pd.read_csv('https://umbc.box.com/shared/static/7emabgf9ck2afprmrl459jnk30ewmabj.csv', encoding='ISO-8859-1')"
   ]
  },
  {
   "cell_type": "code",
   "execution_count": null,
   "id": "b532ba43",
   "metadata": {},
   "outputs": [],
   "source": [
    "df4 = pd.read_csv('https://umbc.box.com/shared/static/91lmieun5u1e8p87wmlnuglyzl3xm91h.csv', encoding='ISO-8859-1')"
   ]
  },
  {
   "cell_type": "code",
   "execution_count": null,
   "id": "39eb83cf",
   "metadata": {},
   "outputs": [],
   "source": [
    "combined_df = pd.concat([df1, df2, df3, df4], ignore_index=True)"
   ]
  },
  {
   "cell_type": "code",
   "execution_count": null,
   "id": "034a2b88",
   "metadata": {},
   "outputs": [],
   "source": [
    "def clean_contract_data(df):\n",
    "    df['Award$'] = pd.to_numeric(df['Award$'].str.replace('[^\\d.]', ''), errors='coerce')\n",
    "    df['PostedDate'] = pd.to_datetime(df['PostedDate'], errors='coerce', utc=True)\n",
    "    df['Awardee'] = df['Awardee'].astype(str)\n",
    "    return df"
   ]
  },
  {
   "cell_type": "code",
   "execution_count": null,
   "id": "ec31e1e0",
   "metadata": {},
   "outputs": [],
   "source": [
    "combined_df = clean_contract_data(combined_df)"
   ]
  },
  {
   "cell_type": "code",
   "execution_count": null,
   "id": "cbf896fd",
   "metadata": {},
   "outputs": [],
   "source": [
    "combined_df.columns"
   ]
  },
  {
   "cell_type": "code",
   "execution_count": null,
   "id": "94c0f4cf",
   "metadata": {},
   "outputs": [],
   "source": [
    "com_df = combined_df[combined_df['Department/Ind.Agency'].str.contains('COMMERCE', na=False)]"
   ]
  },
  {
   "cell_type": "code",
   "execution_count": null,
   "id": "0733b12b",
   "metadata": {},
   "outputs": [],
   "source": [
    "census = com_df[com_df['Sub-Tier'].str.contains('US CENSUS BUREAU', na=False)]"
   ]
  },
  {
   "cell_type": "code",
   "execution_count": null,
   "id": "6fffaa2d",
   "metadata": {},
   "outputs": [],
   "source": [
    "compare = com_df['Sub-Tier'].value_counts().reset_index()"
   ]
  },
  {
   "cell_type": "code",
   "execution_count": null,
   "id": "eae84f8c",
   "metadata": {},
   "outputs": [],
   "source": [
    "compare.rename(columns={'index': 'Sub-Tier', 'Sub-Tier': 'count'}, inplace=True)"
   ]
  },
  {
   "cell_type": "code",
   "execution_count": null,
   "id": "185d04c4",
   "metadata": {},
   "outputs": [],
   "source": [
    "plt.figure(figsize=(12, 8))"
   ]
  },
  {
   "cell_type": "code",
   "execution_count": null,
   "id": "234e47fb",
   "metadata": {},
   "outputs": [],
   "source": [
    "sns.barplot(data=compare, x='count', y='Sub-Tier', palette='GnBu')"
   ]
  },
  {
   "cell_type": "code",
   "execution_count": null,
   "id": "4d81ac36",
   "metadata": {},
   "outputs": [],
   "source": [
    "plt.title('Counts of Sub-Tier Entities in Department of Commerce')"
   ]
  },
  {
   "cell_type": "code",
   "execution_count": null,
   "id": "d4106b3c",
   "metadata": {},
   "outputs": [],
   "source": [
    "plt.xlabel('Count')"
   ]
  },
  {
   "cell_type": "code",
   "execution_count": null,
   "id": "cf55a4a9",
   "metadata": {},
   "outputs": [],
   "source": [
    "plt.ylabel('Sub-Tier Entities')"
   ]
  },
  {
   "cell_type": "code",
   "execution_count": null,
   "id": "19048196",
   "metadata": {},
   "outputs": [],
   "source": [
    "plt.grid(True)"
   ]
  },
  {
   "cell_type": "code",
   "execution_count": null,
   "id": "b600c0b6",
   "metadata": {},
   "outputs": [],
   "source": [
    "plt.show()"
   ]
  }
 ],
 "metadata": {},
 "nbformat": 4,
 "nbformat_minor": 5
}
