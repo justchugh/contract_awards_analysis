{
 "cells": [
  {
   "cell_type": "code",
   "execution_count": null,
   "id": "ef7a4ce6",
   "metadata": {},
   "outputs": [],
   "source": [
    "# Adjusting bar text\n",
    "fig.update_traces(texttemplate='%{text}', textposition='outside').show()\n",
    "Since 'NATIONAL OCEANIC AND ATMOSPHERIC ADMINISTRATION' has the highest number of contracts our hypothesis is wrong."
   ]
  }
 ],
 "metadata": {},
 "nbformat": 4,
 "nbformat_minor": 5
}
