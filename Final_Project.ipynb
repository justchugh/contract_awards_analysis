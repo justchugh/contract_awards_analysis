{
 "cells": [
  {
   "cell_type": "code",
   "execution_count": null,
   "id": "3881d860",
   "metadata": {},
   "outputs": [],
   "source": [
    "import pandas as pd"
   ]
  },
  {
   "cell_type": "code",
   "execution_count": null,
   "id": "b2b14155",
   "metadata": {},
   "outputs": [],
   "source": [
    "import warnings"
   ]
  },
  {
   "cell_type": "code",
   "execution_count": null,
   "id": "e0a984b8",
   "metadata": {},
   "outputs": [],
   "source": [
    "warnings.filterwarnings('ignore')"
   ]
  },
  {
   "cell_type": "code",
   "execution_count": null,
   "id": "37b53b9b",
   "metadata": {},
   "outputs": [],
   "source": [
    "import matplotlib.pyplot as plt"
   ]
  },
  {
   "cell_type": "code",
   "execution_count": null,
   "id": "61fd6ca0",
   "metadata": {},
   "outputs": [],
   "source": [
    "import seaborn as sns"
   ]
  },
  {
   "cell_type": "code",
   "execution_count": null,
   "id": "448b3053",
   "metadata": {},
   "outputs": [],
   "source": [
    "df1 = pd.read_csv('https://umbc.box.com/shared/static/au8h309qptksq5wlem6g5onn5v13fsrc.csv', encoding='ISO-8859-1')"
   ]
  },
  {
   "cell_type": "code",
   "execution_count": null,
   "id": "079455cd",
   "metadata": {},
   "outputs": [],
   "source": [
    "df2 = pd.read_csv('https://umbc.box.com/shared/static/tdkmuj86qm2uxhvjlfkav2i3pnx9fkoa.csv', encoding='ISO-8859-1')"
   ]
  },
  {
   "cell_type": "code",
   "execution_count": null,
   "id": "db424eb4",
   "metadata": {},
   "outputs": [],
   "source": [
    "df3 = pd.read_csv('https://umbc.box.com/shared/static/7emabgf9ck2afprmrl459jnk30ewmabj.csv', encoding='ISO-8859-1')"
   ]
  },
  {
   "cell_type": "code",
   "execution_count": null,
   "id": "4c4c8daf",
   "metadata": {},
   "outputs": [],
   "source": [
    "df4 = pd.read_csv('https://umbc.box.com/shared/static/91lmieun5u1e8p87wmlnuglyzl3xm91h.csv', encoding='ISO-8859-1')"
   ]
  },
  {
   "cell_type": "code",
   "execution_count": null,
   "id": "fa6cdbb8",
   "metadata": {},
   "outputs": [],
   "source": [
    "combined_df = pd.concat([df1, df2, df3, df4], ignore_index=True)"
   ]
  },
  {
   "cell_type": "code",
   "execution_count": null,
   "id": "257f107f",
   "metadata": {},
   "outputs": [],
   "source": [
    "def clean_contract_data(df):\n",
    "    df['Award$'] = pd.to_numeric(df['Award$'].str.replace('[^\\d.]', ''), errors='coerce')\n",
    "    df['PostedDate'] = pd.to_datetime(df['PostedDate'], errors='coerce', utc=True)\n",
    "    df['Awardee'] = df['Awardee'].astype(str)\n",
    "    return df"
   ]
  },
  {
   "cell_type": "code",
   "execution_count": null,
   "id": "934d2d47",
   "metadata": {},
   "outputs": [],
   "source": [
    "combined_df = clean_contract_data(combined_df)"
   ]
  },
  {
   "cell_type": "code",
   "execution_count": null,
   "id": "4cdcaa6e",
   "metadata": {},
   "outputs": [],
   "source": [
    "com_df = combined_df[combined_df['Department/Ind.Agency'].str.contains('COMMERCE', na=False)]"
   ]
  },
  {
   "cell_type": "code",
   "execution_count": null,
   "id": "6cdf0b3d",
   "metadata": {},
   "outputs": [],
   "source": [
    "census = com_df[com_df['Sub-Tier'].str.contains('US CENSUS BUREAU', na=False)]"
   ]
  },
  {
   "cell_type": "code",
   "execution_count": null,
   "id": "6bf6b0cb",
   "metadata": {},
   "outputs": [],
   "source": [
    "compare = com_df['Sub-Tier'].value_counts().reset_index()"
   ]
  },
  {
   "cell_type": "code",
   "execution_count": null,
   "id": "d96ea8c7",
   "metadata": {},
   "outputs": [],
   "source": [
    "compare.rename(columns={'index': 'Sub-Tier', 'Sub-Tier': 'count'}, inplace=True)"
   ]
  },
  {
   "cell_type": "code",
   "execution_count": null,
   "id": "91cd0b95",
   "metadata": {},
   "outputs": [],
   "source": [
    "sns.barplot(data=compare, x='count', y='Sub-Tier')"
   ]
  },
  {
   "cell_type": "code",
   "execution_count": null,
   "id": "815cef96",
   "metadata": {},
   "outputs": [],
   "source": [
    "plt.show()"
   ]
  }
 ],
 "metadata": {},
 "nbformat": 4,
 "nbformat_minor": 5
}
