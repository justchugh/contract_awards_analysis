{
 "cells": [
  {
   "cell_type": "code",
   "execution_count": null,
   "id": "c63e1675",
   "metadata": {},
   "outputs": [],
   "source": [
    "import pandas as pd"
   ]
  },
  {
   "cell_type": "code",
   "execution_count": null,
   "id": "d4801a07",
   "metadata": {},
   "outputs": [],
   "source": [
    "import matplotlib.pyplot as plt"
   ]
  },
  {
   "cell_type": "code",
   "execution_count": null,
   "id": "21d2e320",
   "metadata": {},
   "outputs": [],
   "source": [
    "import seaborn as sns"
   ]
  },
  {
   "cell_type": "code",
   "execution_count": null,
   "id": "d34d6c05",
   "metadata": {},
   "outputs": [],
   "source": [
    "df1 = pd.read_csv('https://umbc.box.com/shared/static/au8h309qptksq5wlem6g5onn5v13fsrc.csv', encoding='ISO-8859-1')"
   ]
  },
  {
   "cell_type": "code",
   "execution_count": null,
   "id": "86fea700",
   "metadata": {},
   "outputs": [],
   "source": [
    "df2 = pd.read_csv('https://umbc.box.com/shared/static/tdkmuj86qm2uxhvjlfkav2i3pnx9fkoa.csv', encoding='ISO-8859-1')"
   ]
  },
  {
   "cell_type": "code",
   "execution_count": null,
   "id": "4d0c20e6",
   "metadata": {},
   "outputs": [],
   "source": [
    "df3 = pd.read_csv('https://umbc.box.com/shared/static/7emabgf9ck2afprmrl459jnk30ewmabj.csv', encoding='ISO-8859-1')"
   ]
  },
  {
   "cell_type": "code",
   "execution_count": null,
   "id": "fcb9d157",
   "metadata": {},
   "outputs": [],
   "source": [
    "df4 = pd.read_csv('https://umbc.box.com/shared/static/91lmieun5u1e8p87wmlnuglyzl3xm91h.csv', encoding='ISO-8859-1')"
   ]
  },
  {
   "cell_type": "code",
   "execution_count": null,
   "id": "101b6924",
   "metadata": {},
   "outputs": [],
   "source": [
    "combined_df = pd.concat([df1, df2, df3, df4], ignore_index=True)"
   ]
  },
  {
   "cell_type": "code",
   "execution_count": null,
   "id": "a35850ac",
   "metadata": {},
   "outputs": [],
   "source": [
    "def clean_contract_data(df):\n",
    "    df['Award$'] = pd.to_numeric(df['Award$'].str.replace('[^\\d.]', ''), errors='coerce')\n",
    "    df['PostedDate'] = pd.to_datetime(df['PostedDate'], errors='coerce', utc=True)\n",
    "    df['Awardee'] = df['Awardee'].astype(str)\n",
    "    return df"
   ]
  },
  {
   "cell_type": "code",
   "execution_count": null,
   "id": "dae96655",
   "metadata": {},
   "outputs": [],
   "source": [
    "combined_df = clean_contract_data(combined_df)"
   ]
  },
  {
   "cell_type": "code",
   "execution_count": null,
   "id": "422521c5",
   "metadata": {},
   "outputs": [],
   "source": [
    "combined_df.columns"
   ]
  },
  {
   "cell_type": "code",
   "execution_count": null,
   "id": "eccbc66e",
   "metadata": {},
   "outputs": [],
   "source": [
    "com_df = combined_df[combined_df['Department/Ind.Agency'].str.contains('COMMERCE', na=False)]"
   ]
  },
  {
   "cell_type": "code",
   "execution_count": null,
   "id": "c8e0b057",
   "metadata": {},
   "outputs": [],
   "source": [
    "census = com_df[com_df['Sub-Tier'].str.contains('US CENSUS BUREAU', na=False)]"
   ]
  },
  {
   "cell_type": "code",
   "execution_count": null,
   "id": "e09b72db",
   "metadata": {},
   "outputs": [],
   "source": [
    "compare = com_df['Sub-Tier'].value_counts().reset_index()"
   ]
  },
  {
   "cell_type": "code",
   "execution_count": null,
   "id": "2e8b38c4",
   "metadata": {},
   "outputs": [],
   "source": [
    "compare.rename(columns={'index': 'Sub-Tier', 'Sub-Tier': 'count'}, inplace=True)"
   ]
  },
  {
   "cell_type": "code",
   "execution_count": null,
   "id": "6ce7bfce",
   "metadata": {},
   "outputs": [],
   "source": [
    "plt.figure(figsize=(12, 8))"
   ]
  },
  {
   "cell_type": "code",
   "execution_count": null,
   "id": "cba0c2cf",
   "metadata": {},
   "outputs": [],
   "source": [
    "sns.barplot(data=compare, x='count', y='Sub-Tier', palette='YlGn')"
   ]
  },
  {
   "cell_type": "code",
   "execution_count": null,
   "id": "34306868",
   "metadata": {},
   "outputs": [],
   "source": [
    "plt.title('Counts of Sub-Tier Entities in Department of Commerce')"
   ]
  },
  {
   "cell_type": "code",
   "execution_count": null,
   "id": "f805609e",
   "metadata": {},
   "outputs": [],
   "source": [
    "plt.xlabel('Count')"
   ]
  },
  {
   "cell_type": "code",
   "execution_count": null,
   "id": "4c588850",
   "metadata": {},
   "outputs": [],
   "source": [
    "plt.ylabel('Sub-Tier Entities')"
   ]
  },
  {
   "cell_type": "code",
   "execution_count": null,
   "id": "038115ad",
   "metadata": {},
   "outputs": [],
   "source": [
    "plt.grid(True)"
   ]
  },
  {
   "cell_type": "code",
   "execution_count": null,
   "id": "21c8d86d",
   "metadata": {},
   "outputs": [],
   "source": [
    "plt.show()"
   ]
  }
 ],
 "metadata": {},
 "nbformat": 4,
 "nbformat_minor": 5
}
