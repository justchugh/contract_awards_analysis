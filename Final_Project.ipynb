{
 "cells": [
  {
   "cell_type": "code",
   "execution_count": null,
   "id": "f1ecb10e",
   "metadata": {},
   "outputs": [],
   "source": [
    "compare = com_df['Sub-Tier'].value_counts().reset_index()\n",
    "compare.rename(columns={'index':'Sub-Tier','Sub-Tier':'count'},inplace=True)\n",
    "compare\n",
    "import plotly.express as px\n",
    "\n",
    "# Creating bar graph\n",
    "fig = px.bar(compare, y='Sub-Tier', x='count', orientation='h', color='Sub-Tier', text='count',\n",
    "             title='Counts of Sub-Tier Entities',\n",
    "             category_orders={\"Sub-Tier\": compare.sort_values(\"count\", ascending=True)['Sub-Tier']})\n",
    "fig.update_layout(width=960, height=640, showlegend=False, title_x=0.5, title_font_color='darkblue',\n",
    "                  xaxis_tickfont_size=12, yaxis_tickfont_size=10,\n",
    "                  margin=dict(l=40, r=40, t=60, b=40),  # Adjusted margins\n",
    "                  plot_bgcolor='white', paper_bgcolor='white',\n",
    "                  shapes=[\n",
    "                      dict(type=\"line\", x0=0, y0=-0.5, x1=0, y1=len(compare['Sub-Tier'])-0.5, line=dict(color=\"Black\", width=2)),\n",
    "                      dict(type=\"line\", x0=min(compare['count']), y0=-0.5, x1=max(compare['count']), y1=-0.5, line=dict(color=\"Black\", width=2))\n",
    "                  ])\n",
    "\n",
    "# Adjusting bar text\n",
    "fig.update_traces(texttemplate='%{text}', textposition='outside').show()\n",
    "Since 'NATIONAL OCEANIC AND ATMOSPHERIC ADMINISTRATION' has the highest number of contracts our hypothesis is wrong."
   ]
  }
 ],
 "metadata": {},
 "nbformat": 4,
 "nbformat_minor": 5
}
