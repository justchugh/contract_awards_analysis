{
 "cells": [
  {
   "cell_type": "code",
   "execution_count": null,
   "id": "72715b31",
   "metadata": {},
   "outputs": [],
   "source": []
  }
 ],
 "metadata": {},
 "nbformat": 4,
 "nbformat_minor": 5
}
