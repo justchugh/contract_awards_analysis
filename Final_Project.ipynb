{
 "cells": [
  {
   "cell_type": "code",
   "execution_count": null,
   "id": "ed0e607f",
   "metadata": {},
   "outputs": [],
   "source": [
    "import pandas as pd"
   ]
  },
  {
   "cell_type": "code",
   "execution_count": null,
   "id": "86d824de",
   "metadata": {},
   "outputs": [],
   "source": [
    "import matplotlib.pyplot as plt"
   ]
  },
  {
   "cell_type": "code",
   "execution_count": null,
   "id": "9a81f015",
   "metadata": {},
   "outputs": [],
   "source": [
    "import seaborn as sns"
   ]
  },
  {
   "cell_type": "code",
   "execution_count": null,
   "id": "187d43fc",
   "metadata": {},
   "outputs": [],
   "source": [
    "df1 = pd.read_csv('https://umbc.box.com/shared/static/au8h309qptksq5wlem6g5onn5v13fsrc.csv', encoding='ISO-8859-1')"
   ]
  },
  {
   "cell_type": "code",
   "execution_count": null,
   "id": "cd61814b",
   "metadata": {},
   "outputs": [],
   "source": [
    "df2 = pd.read_csv('https://umbc.box.com/shared/static/tdkmuj86qm2uxhvjlfkav2i3pnx9fkoa.csv', encoding='ISO-8859-1')"
   ]
  },
  {
   "cell_type": "code",
   "execution_count": null,
   "id": "f18d75d5",
   "metadata": {},
   "outputs": [],
   "source": [
    "df3 = pd.read_csv('https://umbc.box.com/shared/static/7emabgf9ck2afprmrl459jnk30ewmabj.csv', encoding='ISO-8859-1')"
   ]
  },
  {
   "cell_type": "code",
   "execution_count": null,
   "id": "1720228b",
   "metadata": {},
   "outputs": [],
   "source": [
    "df4 = pd.read_csv('https://umbc.box.com/shared/static/91lmieun5u1e8p87wmlnuglyzl3xm91h.csv', encoding='ISO-8859-1')"
   ]
  },
  {
   "cell_type": "code",
   "execution_count": null,
   "id": "4b1de29a",
   "metadata": {},
   "outputs": [],
   "source": [
    "combined_df = pd.concat([df1, df2, df3, df4], ignore_index=True)"
   ]
  },
  {
   "cell_type": "code",
   "execution_count": null,
   "id": "9569eb3d",
   "metadata": {},
   "outputs": [],
   "source": [
    "def clean_contract_data(df):\n",
    "    df['Award$'] = pd.to_numeric(df['Award$'].str.replace('[^\\d.]', ''), errors='coerce')\n",
    "    df['PostedDate'] = pd.to_datetime(df['PostedDate'], errors='coerce', utc=True)\n",
    "    df['Awardee'] = df['Awardee'].astype(str)\n",
    "    return df"
   ]
  },
  {
   "cell_type": "code",
   "execution_count": null,
   "id": "f185a5bb",
   "metadata": {},
   "outputs": [],
   "source": [
    "combined_df = clean_contract_data(combined_df)"
   ]
  },
  {
   "cell_type": "code",
   "execution_count": null,
   "id": "44efb4ca",
   "metadata": {},
   "outputs": [],
   "source": [
    "combined_df.columns"
   ]
  },
  {
   "cell_type": "code",
   "execution_count": null,
   "id": "831c45e9",
   "metadata": {},
   "outputs": [],
   "source": [
    "com_df = combined_df[combined_df['Department/Ind.Agency'].str.contains('COMMERCE', na=False)]"
   ]
  },
  {
   "cell_type": "code",
   "execution_count": null,
   "id": "8c4159a3",
   "metadata": {},
   "outputs": [],
   "source": [
    "census = com_df[com_df['Sub-Tier'].str.contains('US CENSUS BUREAU', na=False)]"
   ]
  },
  {
   "cell_type": "code",
   "execution_count": null,
   "id": "f039458b",
   "metadata": {},
   "outputs": [],
   "source": [
    "compare = com_df['Sub-Tier'].value_counts().reset_index()"
   ]
  },
  {
   "cell_type": "code",
   "execution_count": null,
   "id": "04b27e2c",
   "metadata": {},
   "outputs": [],
   "source": [
    "compare.rename(columns={'index': 'Sub-Tier', 'Sub-Tier': 'count'}, inplace=True)"
   ]
  },
  {
   "cell_type": "code",
   "execution_count": null,
   "id": "81539608",
   "metadata": {},
   "outputs": [],
   "source": [
    "plt.figure(figsize=(12, 8))"
   ]
  },
  {
   "cell_type": "code",
   "execution_count": null,
   "id": "70ed8c56",
   "metadata": {},
   "outputs": [],
   "source": [
    "sns.barplot(data=compare, x='count', y='Sub-Tier', palette='cubehelix')"
   ]
  },
  {
   "cell_type": "code",
   "execution_count": null,
   "id": "75ddbd4d",
   "metadata": {},
   "outputs": [],
   "source": [
    "plt.title('Counts of Sub-Tier Entities in Department of Commerce')"
   ]
  },
  {
   "cell_type": "code",
   "execution_count": null,
   "id": "4d280df3",
   "metadata": {},
   "outputs": [],
   "source": [
    "plt.xlabel('Count')"
   ]
  },
  {
   "cell_type": "code",
   "execution_count": null,
   "id": "12405a42",
   "metadata": {},
   "outputs": [],
   "source": [
    "plt.ylabel('Sub-Tier Entities')"
   ]
  },
  {
   "cell_type": "code",
   "execution_count": null,
   "id": "7a49da63",
   "metadata": {},
   "outputs": [],
   "source": [
    "plt.grid(True)"
   ]
  },
  {
   "cell_type": "code",
   "execution_count": null,
   "id": "0d92083f",
   "metadata": {},
   "outputs": [],
   "source": [
    "plt.show()"
   ]
  }
 ],
 "metadata": {},
 "nbformat": 4,
 "nbformat_minor": 5
}
