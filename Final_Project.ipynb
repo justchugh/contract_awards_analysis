{
 "cells": [
  {
   "cell_type": "code",
   "execution_count": null,
   "id": "575c9eb0",
   "metadata": {},
   "outputs": [],
   "source": [
    "                      dict(type=\"line\", x0=min(compare['count']), y0=-0.5, x1=max(compare['count']), y1=-0.5, line=dict(color=\"Black\", width=2))\n",
    "                  ])\n",
    "\n",
    "# Adjusting bar text\n",
    "fig.update_traces(texttemplate='%{text}', textposition='outside').show()\n",
    "Since 'NATIONAL OCEANIC AND ATMOSPHERIC ADMINISTRATION' has the highest number of contracts our hypothesis is wrong."
   ]
  }
 ],
 "metadata": {},
 "nbformat": 4,
 "nbformat_minor": 5
}
